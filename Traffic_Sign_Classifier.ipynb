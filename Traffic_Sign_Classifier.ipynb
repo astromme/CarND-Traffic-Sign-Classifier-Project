{
 "cells": [
  {
   "cell_type": "markdown",
   "metadata": {},
   "source": [
    "# Self-Driving Car Engineer Nanodegree\n",
    "\n",
    "## Deep Learning\n",
    "\n",
    "## Project: Build a Traffic Sign Recognition Classifier\n",
    "\n",
    "In this notebook, a template is provided for you to implement your functionality in stages, which is required to successfully complete this project. If additional code is required that cannot be included in the notebook, be sure that the Python code is successfully imported and included in your submission if necessary. \n",
    "\n",
    "> **Note**: Once you have completed all of the code implementations, you need to finalize your work by exporting the iPython Notebook as an HTML document. Before exporting the notebook to html, all of the code cells need to have been run so that reviewers can see the final implementation and output. You can then export the notebook by using the menu above and navigating to  \\n\",\n",
    "    \"**File -> Download as -> HTML (.html)**. Include the finished document along with this notebook as your submission. \n",
    "\n",
    "In addition to implementing code, there is a writeup to complete. The writeup should be completed in a separate file, which can be either a markdown file or a pdf document. There is a [write up template](https://github.com/udacity/CarND-Traffic-Sign-Classifier-Project/blob/master/writeup_template.md) that can be used to guide the writing process. Completing the code template and writeup template will cover all of the [rubric points](https://review.udacity.com/#!/rubrics/481/view) for this project.\n",
    "\n",
    "The [rubric](https://review.udacity.com/#!/rubrics/481/view) contains \"Stand Out Suggestions\" for enhancing the project beyond the minimum requirements. The stand out suggestions are optional. If you decide to pursue the \"stand out suggestions\", you can include the code in this Ipython notebook and also discuss the results in the writeup file.\n",
    "\n",
    "\n",
    ">**Note:** Code and Markdown cells can be executed using the **Shift + Enter** keyboard shortcut. In addition, Markdown cells can be edited by typically double-clicking the cell to enter edit mode."
   ]
  },
  {
   "cell_type": "markdown",
   "metadata": {},
   "source": [
    "---\n",
    "## Step 0: Load The Data"
   ]
  },
  {
   "cell_type": "code",
   "execution_count": 1,
   "metadata": {},
   "outputs": [],
   "source": [
    "# Load pickled data\n",
    "import pickle\n",
    "\n",
    "# TODO: Fill this in based on where you saved the training and testing data\n",
    "\n",
    "training_file = './train.p'\n",
    "validation_file= './valid.p'\n",
    "testing_file = './test.p'\n",
    "\n",
    "with open(training_file, mode='rb') as f:\n",
    "    train = pickle.load(f)\n",
    "with open(validation_file, mode='rb') as f:\n",
    "    valid = pickle.load(f)\n",
    "with open(testing_file, mode='rb') as f:\n",
    "    test = pickle.load(f)\n",
    "    \n",
    "X_train, y_train = train['features'], train['labels']\n",
    "X_valid, y_valid = valid['features'], valid['labels']\n",
    "X_test, y_test = test['features'], test['labels']"
   ]
  },
  {
   "cell_type": "code",
   "execution_count": null,
   "metadata": {
    "collapsed": true
   },
   "outputs": [],
   "source": []
  },
  {
   "cell_type": "code",
   "execution_count": 2,
   "metadata": {},
   "outputs": [],
   "source": [
    "# Import the labels\n",
    "\n",
    "sign_names = {}\n",
    "\n",
    "with open(\"signnames.csv\") as f:\n",
    "    for line in f.read().strip().split('\\n')[1:]:\n",
    "        key_string, value = line.split(',')\n",
    "        key = int(key_string)\n",
    "        \n",
    "        sign_names[key] = value"
   ]
  },
  {
   "cell_type": "markdown",
   "metadata": {},
   "source": [
    "---\n",
    "\n",
    "## Step 1: Dataset Summary & Exploration\n",
    "\n",
    "The pickled data is a dictionary with 4 key/value pairs:\n",
    "\n",
    "- `'features'` is a 4D array containing raw pixel data of the traffic sign images, (num examples, width, height, channels).\n",
    "- `'labels'` is a 1D array containing the label/class id of the traffic sign. The file `signnames.csv` contains id -> name mappings for each id.\n",
    "- `'sizes'` is a list containing tuples, (width, height) representing the original width and height the image.\n",
    "- `'coords'` is a list containing tuples, (x1, y1, x2, y2) representing coordinates of a bounding box around the sign in the image. **THESE COORDINATES ASSUME THE ORIGINAL IMAGE. THE PICKLED DATA CONTAINS RESIZED VERSIONS (32 by 32) OF THESE IMAGES**\n",
    "\n",
    "Complete the basic data summary below. Use python, numpy and/or pandas methods to calculate the data summary rather than hard coding the results. For example, the [pandas shape method](http://pandas.pydata.org/pandas-docs/stable/generated/pandas.DataFrame.shape.html) might be useful for calculating some of the summary results. "
   ]
  },
  {
   "cell_type": "markdown",
   "metadata": {},
   "source": [
    "### Provide a Basic Summary of the Data Set Using Python, Numpy and/or Pandas"
   ]
  },
  {
   "cell_type": "code",
   "execution_count": 3,
   "metadata": {},
   "outputs": [
    {
     "name": "stdout",
     "output_type": "stream",
     "text": [
      "Number of training examples = 34799\n",
      "Number of testing examples = 12630\n",
      "Image data shape = [32, 32]\n",
      "Number of classes = 43\n"
     ]
    }
   ],
   "source": [
    "### Replace each question mark with the appropriate value. \n",
    "### Use python, pandas or numpy methods rather than hard coding the results\n",
    "\n",
    "\n",
    "# TODO: Number of training examples\n",
    "n_train = len(X_train)\n",
    "\n",
    "# TODO: Number of validation examples\n",
    "n_validation = len(X_valid)\n",
    "\n",
    "# TODO: Number of testing examples.\n",
    "n_test = len(X_test)\n",
    "\n",
    "# TODO: What's the shape of an traffic sign image?\n",
    "image_shape = [len(X_train[0]), len(X_train[0][0])]\n",
    "\n",
    "# TODO: How many unique classes/labels there are in the dataset.\n",
    "n_classes = max(y_train+1)\n",
    "\n",
    "print(\"Number of training examples =\", n_train)\n",
    "print(\"Number of testing examples =\", n_test)\n",
    "print(\"Image data shape =\", image_shape)\n",
    "print(\"Number of classes =\", n_classes)"
   ]
  },
  {
   "cell_type": "markdown",
   "metadata": {},
   "source": [
    "### Include an exploratory visualization of the dataset"
   ]
  },
  {
   "cell_type": "markdown",
   "metadata": {},
   "source": [
    "Visualize the German Traffic Signs Dataset using the pickled file(s). This is open ended, suggestions include: plotting traffic sign images, plotting the count of each sign, etc. \n",
    "\n",
    "The [Matplotlib](http://matplotlib.org/) [examples](http://matplotlib.org/examples/index.html) and [gallery](http://matplotlib.org/gallery.html) pages are a great resource for doing visualizations in Python.\n",
    "\n",
    "**NOTE:** It's recommended you start with something simple first. If you wish to do more, come back to it after you've completed the rest of the sections. It can be interesting to look at the distribution of classes in the training, validation and test set. Is the distribution the same? Are there more examples of some classes than others?"
   ]
  },
  {
   "cell_type": "code",
   "execution_count": 4,
   "metadata": {},
   "outputs": [
    {
     "name": "stdout",
     "output_type": "stream",
     "text": [
      "4 Speed limit (70km/h)\n"
     ]
    },
    {
     "data": {
      "image/png": "[encoded data removed]",
      "text/plain": [
       "<matplotlib.figure.Figure at 0x7f2060027cf8>"
      ]
     },
     "metadata": {},
     "output_type": "display_data"
    }
   ],
   "source": [
    "### Data exploration visualization code goes here.\n",
    "### Feel free to use as many code cells as needed.\n",
    "import random\n",
    "import numpy as np\n",
    "import matplotlib.pyplot as plt\n",
    "# Visualizations will be shown in the notebook.\n",
    "%matplotlib inline\n",
    "\n",
    "\n",
    "index = random.randint(0, len(X_train))\n",
    "image = X_train[index].squeeze()\n",
    "\n",
    "plt.figure(figsize=(1,1))\n",
    "plt.imshow(image)\n",
    "print(y_train[index], sign_names[y_train[index]])"
   ]
  },
  {
   "cell_type": "markdown",
   "metadata": {},
   "source": [
    "----\n",
    "\n",
    "## Step 2: Design and Test a Model Architecture\n",
    "\n",
    "Design and implement a deep learning model that learns to recognize traffic signs. Train and test your model on the [German Traffic Sign Dataset](http://benchmark.ini.rub.de/?section=gtsrb&subsection=dataset).\n",
    "\n",
    "The LeNet-5 implementation shown in the [classroom](https://classroom.udacity.com/nanodegrees/nd013/parts/fbf77062-5703-404e-b60c-95b78b2f3f9e/modules/6df7ae49-c61c-4bb2-a23e-6527e69209ec/lessons/601ae704-1035-4287-8b11-e2c2716217ad/concepts/d4aca031-508f-4e0b-b493-e7b706120f81) at the end of the CNN lesson is a solid starting point. You'll have to change the number of classes and possibly the preprocessing, but aside from that it's plug and play! \n",
    "\n",
    "With the LeNet-5 solution from the lecture, you should expect a validation set accuracy of about 0.89. To meet specifications, the validation set accuracy will need to be at least 0.93. It is possible to get an even higher accuracy, but 0.93 is the minimum for a successful project submission. \n",
    "\n",
    "There are various aspects to consider when thinking about this problem:\n",
    "\n",
    "- Neural network architecture (is the network over or underfitting?)\n",
    "- Play around preprocessing techniques (normalization, rgb to grayscale, etc)\n",
    "- Number of examples per label (some have more than others).\n",
    "- Generate fake data.\n",
    "\n",
    "Here is an example of a [published baseline model on this problem](http://yann.lecun.com/exdb/publis/pdf/sermanet-ijcnn-11.pdf). It's not required to be familiar with the approach used in the paper but, it's good practice to try to read papers like these."
   ]
  },
  {
   "cell_type": "markdown",
   "metadata": {},
   "source": [
    "### Pre-process the Data Set (normalization, grayscale, etc.)"
   ]
  },
  {
   "cell_type": "markdown",
   "metadata": {},
   "source": [
    "Minimally, the image data should be normalized so that the data has mean zero and equal variance. For image data, `(pixel - 128)/ 128` is a quick way to approximately normalize the data and can be used in this project. \n",
    "\n",
    "Other pre-processing steps are optional. You can try different techniques to see if it improves performance. \n",
    "\n",
    "Use the code cell (or multiple code cells, if necessary) to implement the first step of your project."
   ]
  },
  {
   "cell_type": "code",
   "execution_count": 5,
   "metadata": {},
   "outputs": [],
   "source": [
    "### Preprocess the data here. It is required to normalize the data. Other preprocessing steps could include \n",
    "### converting to grayscale, etc.\n",
    "### Feel free to use as many code cells as needed.\n",
    "\n",
    "import tensorflow as tf\n",
    "import numpy as np\n",
    "from sklearn.utils import shuffle\n",
    "\n",
    "def preprocess(x):\n",
    "    with tf.variable_scope('preprocess'):\n",
    "        x = (x - tf.constant(128.0)) / tf.constant(128.0)\n",
    "        #x = tf.image.rgb_to_grayscale(x, name=\"grayscale\")\n",
    "    \n",
    "        return x\n"
   ]
  },
  {
   "cell_type": "markdown",
   "metadata": {},
   "source": [
    "### Model Architecture"
   ]
  },
  {
   "cell_type": "code",
   "execution_count": 6,
   "metadata": {
    "collapsed": true
   },
   "outputs": [],
   "source": [
    "### Define your architecture here.\n",
    "### Feel free to use as many code cells as needed.\n",
    "\n",
    "from tensorflow.contrib.layers import flatten\n",
    "\n",
    "def LeNet(x):    \n",
    "    # Arguments used for tf.truncated_normal, randomly defines variables for the weights and biases for each layer\n",
    "    mu = 0\n",
    "    sigma = 0.1\n",
    "        \n",
    "    # TODO: Layer 1: Convolutional. Input = 32x32x1. Output = 28x28x6.\n",
    "    conv1_weights = tf.Variable(tf.truncated_normal([5, 5, 3, 6], mean=mu, stddev=sigma))\n",
    "    conv1 = tf.nn.conv2d(x, conv1_weights, strides=[1, 1, 1, 1], padding='VALID', name='conv1')\n",
    "    \n",
    "    # TODO: Activation.\n",
    "    activation1 = tf.nn.relu(conv1)\n",
    "\n",
    "    # TODO: Pooling. Input = 28x28x6. Output = 14x14x6.\n",
    "    pool1 = tf.nn.max_pool(activation1, ksize=[1, 2, 2, 1], strides=[1,2,2,1], padding='SAME')\n",
    "\n",
    "    # TODO: Layer 2: Convolutional. Output = 10x10x16.\n",
    "    conv2_weights = tf.Variable(tf.truncated_normal([5, 5, 6, 16], mean=mu, stddev=sigma))\n",
    "    conv2 = tf.nn.conv2d(pool1, conv2_weights, strides=[1,1,1,1], padding='VALID')\n",
    "    \n",
    "    # TODO: Activation.\n",
    "    activation2 = tf.nn.relu(conv2)\n",
    "\n",
    "    # TODO: Pooling. Input = 10x10x16. Output = 5x5x16.\n",
    "    pool2 = tf.nn.max_pool(activation2, ksize=[1,2,2,1], strides=[1,2,2,1], padding='SAME')\n",
    "\n",
    "    # TODO: Flatten. Input = 5x5x16. Output = 400.\n",
    "    flattened = flatten(pool2)\n",
    "    \n",
    "    # TODO: Layer 3: Fully Connected. Input = 400. Output = 120.\n",
    "    fully_connected1 = tf.layers.dense(inputs=flattened, units=120)\n",
    "    \n",
    "    # TODO: Activation.\n",
    "    activation3 = tf.nn.relu(fully_connected1)\n",
    "\n",
    "    # TODO: Layer 4: Fully Connected. Input = 120. Output = 84.\n",
    "    fully_connected2 = tf.layers.dense(inputs=activation3, units=84)\n",
    "\n",
    "    # TODO: Activation.\n",
    "    activation4 = tf.nn.relu(fully_connected2)\n",
    "\n",
    "    # TODO: Layer 5: Fully Connected. Input = 84. Output = n_classes.\n",
    "    logits = tf.layers.dense(inputs=activation4, units=n_classes)\n",
    "    \n",
    "    return logits\n",
    "\n",
    "\n",
    "\n",
    "def StrommeNet(x, train):    \n",
    "    # Arguments used for tf.truncated_normal, randomly defines variables for the weights and biases for each layer\n",
    "    mu = 0\n",
    "    sigma = 0.1\n",
    "    \n",
    "    initializer = tf.truncated_normal_initializer(mean=mu, stddev=sigma)\n",
    "    \n",
    "    # TODO: Layer 1: Convolutional. Input = 32x32x1. Output = 14x14x10.\n",
    "    with tf.variable_scope('StrommeNet', reuse=not train):\n",
    "        conv1_weights = tf.get_variable('conv1_weights', [5, 5, 3, 10], initializer=initializer)\n",
    "    x = tf.nn.conv2d(x, conv1_weights, strides=[1, 2, 2, 1], padding='VALID', name='conv1')\n",
    "    print(x)\n",
    "    \n",
    "    # Activation.\n",
    "    if train:\n",
    "        x = tf.nn.dropout(x, keep_prob=0.5, name='activation_dropout_1')\n",
    "        print(x)\n",
    "\n",
    "    # Layer 2: Convolutional. Output = 5x5x50.\n",
    "    with tf.variable_scope('StrommeNet', reuse=not train):\n",
    "        conv2_weights = tf.get_variable('conv2_weights', [5, 5, 10, 50], initializer=initializer)\n",
    "    x = tf.nn.conv2d(x, conv2_weights, strides=[1,2,2,1], padding='VALID')\n",
    "    print(x)\n",
    "    \n",
    "    # TODO: Activation.\n",
    "    if train:\n",
    "        x = tf.nn.dropout(x, keep_prob=0.5, name='activation_dropout_2')\n",
    "        print(x)\n",
    "\n",
    "    # TODO: Flatten. Output = 1250.\n",
    "    flattened = flatten(x)\n",
    "    print(x)\n",
    "    \n",
    "    # TODO: Layer 3: Fully Connected.\n",
    "    fully_connected1 = tf.layers.dense(inputs=flattened, units=512)\n",
    "    \n",
    "    # TODO: Activation.\n",
    "    activation3 = tf.nn.relu(fully_connected1)\n",
    "\n",
    "    # TODO: Layer 4: Fully Connected.\n",
    "    fully_connected2 = tf.layers.dense(inputs=activation3, units=256)\n",
    "\n",
    "    # TODO: Activation.\n",
    "    activation4 = tf.nn.relu(fully_connected2)\n",
    "\n",
    "    # TODO: Layer 5: Fully Connected.\n",
    "    logits = tf.layers.dense(inputs=activation4, units=n_classes)\n",
    "    \n",
    "    return logits"
   ]
  },
  {
   "cell_type": "markdown",
   "metadata": {},
   "source": [
    "### Train, Validate and Test the Model"
   ]
  },
  {
   "cell_type": "markdown",
   "metadata": {},
   "source": [
    "A validation set can be used to assess how well the model is performing. A low accuracy on the training and validation\n",
    "sets imply underfitting. A high accuracy on the training set but low accuracy on the validation set implies overfitting."
   ]
  },
  {
   "cell_type": "code",
   "execution_count": null,
   "metadata": {},
   "outputs": [
    {
     "name": "stdout",
     "output_type": "stream",
     "text": [
      "Tensor(\"conv1:0\", shape=(?, 14, 14, 10), dtype=float32)\n",
      "Tensor(\"activation_dropout_1/mul:0\", shape=(?, 14, 14, 10), dtype=float32)\n",
      "Tensor(\"Conv2D:0\", shape=(?, 5, 5, 50), dtype=float32)\n",
      "Tensor(\"activation_dropout_2/mul:0\", shape=(?, 5, 5, 50), dtype=float32)\n",
      "Tensor(\"activation_dropout_2/mul:0\", shape=(?, 5, 5, 50), dtype=float32)\n",
      "Tensor(\"conv1_1:0\", shape=(?, 14, 14, 10), dtype=float32)\n",
      "Tensor(\"Conv2D_1:0\", shape=(?, 5, 5, 50), dtype=float32)\n",
      "Tensor(\"Conv2D_1:0\", shape=(?, 5, 5, 50), dtype=float32)\n",
      "Training...\n",
      "\n",
      "EPOCH 1 Validation Accuracy = 0.456\n",
      "EPOCH 2 Validation Accuracy = 0.694\n",
      "EPOCH 3 Validation Accuracy = 0.755\n",
      "EPOCH 4 Validation Accuracy = 0.788\n",
      "EPOCH 5 Validation Accuracy = 0.810\n",
      "EPOCH 6 Validation Accuracy = 0.820\n",
      "EPOCH 7 Validation Accuracy = 0.835\n",
      "EPOCH 8 Validation Accuracy = 0.827\n",
      "EPOCH 9 Validation Accuracy = 0.842\n",
      "EPOCH 10 Validation Accuracy = 0.843\n",
      "EPOCH 11 Validation Accuracy = 0.840\n",
      "EPOCH 12 Validation Accuracy = 0.840\n",
      "EPOCH 13 Validation Accuracy = 0.851\n",
      "EPOCH 14 Validation Accuracy = 0.854\n",
      "EPOCH 15 Validation Accuracy = 0.847\n",
      "EPOCH 16 Validation Accuracy = 0.854\n",
      "EPOCH 17 Validation Accuracy = 0.865\n",
      "EPOCH 18 Validation Accuracy = 0.855\n",
      "EPOCH 19 Validation Accuracy = 0.861\n",
      "EPOCH 20 Validation Accuracy = 0.868\n",
      "EPOCH 21 Validation Accuracy = 0.868\n",
      "EPOCH 22 Validation Accuracy = 0.868\n",
      "EPOCH 23 Validation Accuracy = 0.871\n",
      "EPOCH 24 Validation Accuracy = 0.869\n",
      "EPOCH 25 Validation Accuracy = 0.876\n",
      "EPOCH 26 Validation Accuracy = 0.884\n",
      "EPOCH 27 Validation Accuracy = 0.885\n",
      "EPOCH 28 Validation Accuracy = 0.876\n",
      "EPOCH 29 Validation Accuracy = 0.887\n",
      "EPOCH 30 Validation Accuracy = 0.875\n",
      "EPOCH 31 Validation Accuracy = 0.879\n",
      "EPOCH 32 Validation Accuracy = 0.890\n",
      "EPOCH 33 Validation Accuracy = 0.888\n",
      "EPOCH 34 Validation Accuracy = 0.889\n",
      "EPOCH 35 Validation Accuracy = 0.885\n",
      "EPOCH 36 Validation Accuracy = 0.890\n",
      "EPOCH 37 Validation Accuracy = 0.881\n",
      "EPOCH 38 Validation Accuracy = 0.881\n",
      "EPOCH 39 Validation Accuracy = 0.882\n",
      "EPOCH 40 Validation Accuracy = 0.874\n",
      "EPOCH 41 Validation Accuracy = 0.876\n",
      "EPOCH 42 Validation Accuracy = 0.886\n",
      "EPOCH 43 Validation Accuracy = 0.875\n",
      "EPOCH 44 Validation Accuracy = 0.886\n",
      "EPOCH 45 Validation Accuracy = 0.891\n",
      "EPOCH 46 Validation Accuracy = 0.894\n",
      "EPOCH 47 Validation Accuracy = 0.889\n",
      "EPOCH 48 Validation Accuracy = 0.884\n",
      "EPOCH 49 Validation Accuracy = 0.886\n",
      "EPOCH 50 Validation Accuracy = 0.883\n",
      "EPOCH 51 Validation Accuracy = 0.898\n",
      "EPOCH 52 Validation Accuracy = 0.894\n",
      "EPOCH 53 Validation Accuracy = 0.893\n",
      "EPOCH 54 Validation Accuracy = 0.893\n",
      "EPOCH 55 Validation Accuracy = 0.895\n",
      "EPOCH 56 Validation Accuracy = 0.890\n",
      "EPOCH 57 Validation Accuracy = 0.883\n",
      "EPOCH 58 Validation Accuracy = 0.882\n",
      "EPOCH 59 Validation Accuracy = 0.881\n",
      "EPOCH 60 Validation Accuracy = 0.886\n",
      "EPOCH 61 Validation Accuracy = 0.889\n",
      "EPOCH 62 Validation Accuracy = 0.897\n",
      "EPOCH 63 Validation Accuracy = 0.896\n",
      "EPOCH 64 Validation Accuracy = 0.896\n",
      "EPOCH 65 Validation Accuracy = 0.900\n",
      "EPOCH 66 Validation Accuracy = 0.893\n",
      "EPOCH 67 Validation Accuracy = 0.889\n",
      "EPOCH 68 Validation Accuracy = 0.895\n",
      "EPOCH 69 Validation Accuracy = 0.892\n",
      "EPOCH 70 Validation Accuracy = 0.897\n",
      "EPOCH 71 Validation Accuracy = 0.891\n",
      "EPOCH 72 Validation Accuracy = 0.897\n",
      "EPOCH 73 Validation Accuracy = 0.896\n",
      "EPOCH 74 Validation Accuracy = 0.890\n",
      "EPOCH 75 Validation Accuracy = 0.898\n",
      "EPOCH 76 Validation Accuracy = 0.902\n",
      "EPOCH 77 Validation Accuracy = 0.891\n",
      "EPOCH 78 Validation Accuracy = 0.902\n",
      "EPOCH 79 Validation Accuracy = 0.886\n",
      "EPOCH 80 Validation Accuracy = 0.892\n",
      "EPOCH 81 Validation Accuracy = 0.890\n",
      "EPOCH 82 Validation Accuracy = 0.885\n",
      "EPOCH 83 Validation Accuracy = 0.896\n",
      "EPOCH 84 Validation Accuracy = 0.893\n",
      "EPOCH 85 Validation Accuracy = 0.899\n",
      "EPOCH 86 Validation Accuracy = 0.885\n",
      "EPOCH 87 Validation Accuracy = 0.896\n",
      "EPOCH 88 Validation Accuracy = 0.906\n",
      "EPOCH 89 Validation Accuracy = 0.888\n",
      "EPOCH 90 Validation Accuracy = 0.902\n",
      "EPOCH 91 Validation Accuracy = 0.899\n",
      "EPOCH 92 Validation Accuracy = 0.893\n",
      "EPOCH 93 Validation Accuracy = 0.901\n",
      "EPOCH 94 Validation Accuracy = 0.892\n",
      "EPOCH 95 Validation Accuracy = 0.899\n",
      "EPOCH 96 Validation Accuracy = 0.890\n",
      "EPOCH 97 Validation Accuracy = 0.902\n",
      "EPOCH 98 Validation Accuracy = 0.899\n",
      "EPOCH 99 Validation Accuracy = 0.901\n",
      "EPOCH 100 Validation Accuracy = 0.891\n",
      "EPOCH 101 Validation Accuracy = 0.895\n",
      "EPOCH 102 Validation Accuracy = 0.902\n",
      "EPOCH 103 Validation Accuracy = 0.895\n",
      "EPOCH 104 Validation Accuracy = 0.885\n",
      "EPOCH 105 Validation Accuracy = 0.893\n",
      "EPOCH 106 Validation Accuracy = 0.899\n",
      "EPOCH 107 Validation Accuracy = 0.902\n",
      "EPOCH 108 Validation Accuracy = 0.902\n",
      "EPOCH 109 Validation Accuracy = 0.900\n",
      "EPOCH 110 Validation Accuracy = 0.897\n",
      "EPOCH 111 Validation Accuracy = 0.895\n",
      "EPOCH 112 Validation Accuracy = 0.900\n",
      "EPOCH 113 Validation Accuracy = 0.905\n",
      "EPOCH 114 Validation Accuracy = 0.902\n",
      "EPOCH 115 Validation Accuracy = 0.902\n",
      "EPOCH 116 Validation Accuracy = 0.900\n",
      "EPOCH 117 Validation Accuracy = 0.896\n",
      "EPOCH 118 Validation Accuracy = 0.896\n",
      "EPOCH 119 Validation Accuracy = 0.898\n",
      "EPOCH 120 Validation Accuracy = 0.900\n",
      "EPOCH 121 Validation Accuracy = 0.901\n",
      "EPOCH 122 Validation Accuracy = 0.899\n",
      "EPOCH 123 Validation Accuracy = 0.906\n",
      "EPOCH 124 Validation Accuracy = 0.894\n",
      "EPOCH 125 Validation Accuracy = 0.905\n",
      "EPOCH 126 Validation Accuracy = 0.905\n",
      "EPOCH 127 Validation Accuracy = 0.905\n",
      "EPOCH 128 Validation Accuracy = 0.899\n",
      "EPOCH 129 Validation Accuracy = 0.905\n",
      "EPOCH 130 Validation Accuracy = 0.886\n",
      "EPOCH 131 Validation Accuracy = 0.900\n",
      "EPOCH 132 Validation Accuracy = 0.905\n",
      "EPOCH 133 Validation Accuracy = 0.901\n",
      "EPOCH 134 Validation Accuracy = 0.901\n",
      "EPOCH 135 Validation Accuracy = 0.907\n",
      "EPOCH 136 Validation Accuracy = 0.905\n",
      "EPOCH 137 Validation Accuracy = 0.902\n",
      "EPOCH 138 Validation Accuracy = 0.907\n",
      "EPOCH 139 Validation Accuracy = 0.892\n",
      "EPOCH 140 Validation Accuracy = 0.905\n"
     ]
    }
   ],
   "source": [
    "### Train your model here.\n",
    "### Calculate and report the accuracy on the training and validation set.\n",
    "### Once a final model architecture is selected, \n",
    "### the accuracy on the test set should be calculated and reported as well.\n",
    "### Feel free to use as many code cells as needed.\n",
    "\n",
    "tf.reset_default_graph() \n",
    "\n",
    "EPOCHS = 200\n",
    "BATCH_SIZE = 1280\n",
    "\n",
    "\n",
    "x = tf.placeholder(tf.float32, (None, 32, 32, 3))\n",
    "y = tf.placeholder(tf.int32, (None))\n",
    "one_hot_y = tf.one_hot(y, n_classes)\n",
    "\n",
    "# training pipeline\n",
    "rate = 0.001\n",
    "\n",
    "logits = StrommeNet(preprocess(x), train=True)\n",
    "cross_entropy = tf.nn.softmax_cross_entropy_with_logits(labels=one_hot_y, logits=logits)\n",
    "loss_operation = tf.reduce_mean(cross_entropy)\n",
    "optimizer = tf.train.AdamOptimizer(learning_rate = rate)\n",
    "training_operation = optimizer.minimize(loss_operation)\n",
    "\n",
    "\n",
    "# model evaluation\n",
    "eval_logits = StrommeNet(preprocess(x), train=False)\n",
    "correct_prediction = tf.equal(tf.argmax(logits, 1), tf.argmax(one_hot_y, 1))\n",
    "accuracy_operation = tf.reduce_mean(tf.cast(correct_prediction, tf.float32))\n",
    "saver = tf.train.Saver()\n",
    "\n",
    "def evaluate(X_data, y_data):\n",
    "    num_examples = len(X_data)\n",
    "    total_accuracy = 0\n",
    "    sess = tf.get_default_session()\n",
    "    for offset in range(0, num_examples, BATCH_SIZE):\n",
    "        batch_x, batch_y = X_data[offset:offset+BATCH_SIZE], y_data[offset:offset+BATCH_SIZE]\n",
    "        accuracy = sess.run(accuracy_operation, feed_dict={x: batch_x, y: batch_y})\n",
    "        total_accuracy += (accuracy * len(batch_x))\n",
    "    return total_accuracy / num_examples\n",
    "\n",
    "\n",
    "with tf.Session() as sess:\n",
    "    sess.run(tf.global_variables_initializer())\n",
    "    num_examples = len(X_train)\n",
    "    \n",
    "    print(\"Training...\")\n",
    "    print()\n",
    "    for i in range(EPOCHS):\n",
    "        X_train, y_train = shuffle(X_train, y_train)\n",
    "        for offset in range(0, num_examples, BATCH_SIZE):\n",
    "            end = offset + BATCH_SIZE\n",
    "            batch_x, batch_y = X_train[offset:end], y_train[offset:end]\n",
    "            sess.run(training_operation, feed_dict={x: batch_x, y: batch_y})\n",
    "            \n",
    "        validation_accuracy = evaluate(X_valid, y_valid)\n",
    "        print(\"EPOCH {} Validation Accuracy = {:.3f}\".format(i+1, validation_accuracy))\n",
    "        \n",
    "    saver.save(sess, './lenet')\n",
    "    print(\"Model saved\")"
   ]
  },
  {
   "cell_type": "markdown",
   "metadata": {},
   "source": [
    "---\n",
    "\n",
    "## Step 3: Test a Model on New Images\n",
    "\n",
    "To give yourself more insight into how your model is working, download at least five pictures of German traffic signs from the web and use your model to predict the traffic sign type.\n",
    "\n",
    "You may find `signnames.csv` useful as it contains mappings from the class id (integer) to the actual sign name."
   ]
  },
  {
   "cell_type": "markdown",
   "metadata": {},
   "source": [
    "### Load and Output the Images"
   ]
  },
  {
   "cell_type": "code",
   "execution_count": null,
   "metadata": {
    "collapsed": true
   },
   "outputs": [],
   "source": [
    "### Load the images and plot them here.\n",
    "### Feel free to use as many code cells as needed."
   ]
  },
  {
   "cell_type": "markdown",
   "metadata": {},
   "source": [
    "### Predict the Sign Type for Each Image"
   ]
  },
  {
   "cell_type": "code",
   "execution_count": 3,
   "metadata": {
    "collapsed": true
   },
   "outputs": [],
   "source": [
    "### Run the predictions here and use the model to output the prediction for each image.\n",
    "### Make sure to pre-process the images with the same pre-processing pipeline used earlier.\n",
    "### Feel free to use as many code cells as needed."
   ]
  },
  {
   "cell_type": "markdown",
   "metadata": {},
   "source": [
    "### Analyze Performance"
   ]
  },
  {
   "cell_type": "code",
   "execution_count": 4,
   "metadata": {
    "collapsed": true
   },
   "outputs": [],
   "source": [
    "### Calculate the accuracy for these 5 new images. \n",
    "### For example, if the model predicted 1 out of 5 signs correctly, it's 20% accurate on these new images."
   ]
  },
  {
   "cell_type": "markdown",
   "metadata": {},
   "source": [
    "### Output Top 5 Softmax Probabilities For Each Image Found on the Web"
   ]
  },
  {
   "cell_type": "markdown",
   "metadata": {},
   "source": [
    "For each of the new images, print out the model's softmax probabilities to show the **certainty** of the model's predictions (limit the output to the top 5 probabilities for each image). [`tf.nn.top_k`](https://www.tensorflow.org/versions/r0.12/api_docs/python/nn.html#top_k) could prove helpful here. \n",
    "\n",
    "The example below demonstrates how tf.nn.top_k can be used to find the top k predictions for each image.\n",
    "\n",
    "`tf.nn.top_k` will return the values and indices (class ids) of the top k predictions. So if k=3, for each sign, it'll return the 3 largest probabilities (out of a possible 43) and the correspoding class ids.\n",
    "\n",
    "Take this numpy array as an example. The values in the array represent predictions. The array contains softmax probabilities for five candidate images with six possible classes. `tf.nn.top_k` is used to choose the three classes with the highest probability:\n",
    "\n",
    "```\n",
    "# (5, 6) array\n",
    "a = np.array([[ 0.24879643,  0.07032244,  0.12641572,  0.34763842,  0.07893497,\n",
    "         0.12789202],\n",
    "       [ 0.28086119,  0.27569815,  0.08594638,  0.0178669 ,  0.18063401,\n",
    "         0.15899337],\n",
    "       [ 0.26076848,  0.23664738,  0.08020603,  0.07001922,  0.1134371 ,\n",
    "         0.23892179],\n",
    "       [ 0.11943333,  0.29198961,  0.02605103,  0.26234032,  0.1351348 ,\n",
    "         0.16505091],\n",
    "       [ 0.09561176,  0.34396535,  0.0643941 ,  0.16240774,  0.24206137,\n",
    "         0.09155967]])\n",
    "```\n",
    "\n",
    "Running it through `sess.run(tf.nn.top_k(tf.constant(a), k=3))` produces:\n",
    "\n",
    "```\n",
    "TopKV2(values=array([[ 0.34763842,  0.24879643,  0.12789202],\n",
    "       [ 0.28086119,  0.27569815,  0.18063401],\n",
    "       [ 0.26076848,  0.23892179,  0.23664738],\n",
    "       [ 0.29198961,  0.26234032,  0.16505091],\n",
    "       [ 0.34396535,  0.24206137,  0.16240774]]), indices=array([[3, 0, 5],\n",
    "       [0, 1, 4],\n",
    "       [0, 5, 1],\n",
    "       [1, 3, 5],\n",
    "       [1, 4, 3]], dtype=int32))\n",
    "```\n",
    "\n",
    "Looking just at the first row we get `[ 0.34763842,  0.24879643,  0.12789202]`, you can confirm these are the 3 largest probabilities in `a`. You'll also notice `[3, 0, 5]` are the corresponding indices."
   ]
  },
  {
   "cell_type": "code",
   "execution_count": 3,
   "metadata": {
    "collapsed": true
   },
   "outputs": [],
   "source": [
    "### Print out the top five softmax probabilities for the predictions on the German traffic sign images found on the web. \n",
    "### Feel free to use as many code cells as needed."
   ]
  },
  {
   "cell_type": "markdown",
   "metadata": {},
   "source": [
    "### Project Writeup\n",
    "\n",
    "Once you have completed the code implementation, document your results in a project writeup using this [template](https://github.com/udacity/CarND-Traffic-Sign-Classifier-Project/blob/master/writeup_template.md) as a guide. The writeup can be in a markdown or pdf file. "
   ]
  },
  {
   "cell_type": "markdown",
   "metadata": {},
   "source": [
    "> **Note**: Once you have completed all of the code implementations and successfully answered each question above, you may finalize your work by exporting the iPython Notebook as an HTML document. You can do this by using the menu above and navigating to  \\n\",\n",
    "    \"**File -> Download as -> HTML (.html)**. Include the finished document along with this notebook as your submission."
   ]
  },
  {
   "cell_type": "markdown",
   "metadata": {},
   "source": [
    "---\n",
    "\n",
    "## Step 4 (Optional): Visualize the Neural Network's State with Test Images\n",
    "\n",
    " This Section is not required to complete but acts as an additional excersise for understaning the output of a neural network's weights. While neural networks can be a great learning device they are often referred to as a black box. We can understand what the weights of a neural network look like better by plotting their feature maps. After successfully training your neural network you can see what it's feature maps look like by plotting the output of the network's weight layers in response to a test stimuli image. From these plotted feature maps, it's possible to see what characteristics of an image the network finds interesting. For a sign, maybe the inner network feature maps react with high activation to the sign's boundary outline or to the contrast in the sign's painted symbol.\n",
    "\n",
    " Provided for you below is the function code that allows you to get the visualization output of any tensorflow weight layer you want. The inputs to the function should be a stimuli image, one used during training or a new one you provided, and then the tensorflow variable name that represents the layer's state during the training process, for instance if you wanted to see what the [LeNet lab's](https://classroom.udacity.com/nanodegrees/nd013/parts/fbf77062-5703-404e-b60c-95b78b2f3f9e/modules/6df7ae49-c61c-4bb2-a23e-6527e69209ec/lessons/601ae704-1035-4287-8b11-e2c2716217ad/concepts/d4aca031-508f-4e0b-b493-e7b706120f81) feature maps looked like for it's second convolutional layer you could enter conv2 as the tf_activation variable.\n",
    "\n",
    "For an example of what feature map outputs look like, check out NVIDIA's results in their paper [End-to-End Deep Learning for Self-Driving Cars](https://devblogs.nvidia.com/parallelforall/deep-learning-self-driving-cars/) in the section Visualization of internal CNN State. NVIDIA was able to show that their network's inner weights had high activations to road boundary lines by comparing feature maps from an image with a clear path to one without. Try experimenting with a similar test to show that your trained network's weights are looking for interesting features, whether it's looking at differences in feature maps from images with or without a sign, or even what feature maps look like in a trained network vs a completely untrained one on the same sign image.\n",
    "\n",
    "<figure>\n",
    " <img src=\"visualize_cnn.png\" width=\"380\" alt=\"Combined Image\" />\n",
    " <figcaption>\n",
    " <p></p> \n",
    " <p style=\"text-align: center;\"> Your output should look something like this (above)</p> \n",
    " </figcaption>\n",
    "</figure>\n",
    " <p></p> \n"
   ]
  },
  {
   "cell_type": "code",
   "execution_count": null,
   "metadata": {
    "collapsed": true
   },
   "outputs": [],
   "source": [
    "### Visualize your network's feature maps here.\n",
    "### Feel free to use as many code cells as needed.\n",
    "\n",
    "# image_input: the test image being fed into the network to produce the feature maps\n",
    "# tf_activation: should be a tf variable name used during your training procedure that represents the calculated state of a specific weight layer\n",
    "# activation_min/max: can be used to view the activation contrast in more detail, by default matplot sets min and max to the actual min and max values of the output\n",
    "# plt_num: used to plot out multiple different weight feature map sets on the same block, just extend the plt number for each new feature map entry\n",
    "\n",
    "def outputFeatureMap(image_input, tf_activation, activation_min=-1, activation_max=-1 ,plt_num=1):\n",
    "    # Here make sure to preprocess your image_input in a way your network expects\n",
    "    # with size, normalization, ect if needed\n",
    "    # image_input =\n",
    "    # Note: x should be the same name as your network's tensorflow data placeholder variable\n",
    "    # If you get an error tf_activation is not defined it may be having trouble accessing the variable from inside a function\n",
    "    activation = tf_activation.eval(session=sess,feed_dict={x : image_input})\n",
    "    featuremaps = activation.shape[3]\n",
    "    plt.figure(plt_num, figsize=(15,15))\n",
    "    for featuremap in range(featuremaps):\n",
    "        plt.subplot(6,8, featuremap+1) # sets the number of feature maps to show on each row and column\n",
    "        plt.title('FeatureMap ' + str(featuremap)) # displays the feature map number\n",
    "        if activation_min != -1 & activation_max != -1:\n",
    "            plt.imshow(activation[0,:,:, featuremap], interpolation=\"nearest\", vmin =activation_min, vmax=activation_max, cmap=\"gray\")\n",
    "        elif activation_max != -1:\n",
    "            plt.imshow(activation[0,:,:, featuremap], interpolation=\"nearest\", vmax=activation_max, cmap=\"gray\")\n",
    "        elif activation_min !=-1:\n",
    "            plt.imshow(activation[0,:,:, featuremap], interpolation=\"nearest\", vmin=activation_min, cmap=\"gray\")\n",
    "        else:\n",
    "            plt.imshow(activation[0,:,:, featuremap], interpolation=\"nearest\", cmap=\"gray\")"
   ]
  }
 ],
 "metadata": {
  "anaconda-cloud": {},
  "kernelspec": {
   "display_name": "Python 3",
   "language": "python",
   "name": "python3"
  },
  "language_info": {
   "codemirror_mode": {
    "name": "ipython",
    "version": 3
   },
   "file_extension": ".py",
   "mimetype": "text/x-python",
   "name": "python",
   "nbconvert_exporter": "python",
   "pygments_lexer": "ipython3",
   "version": "3.5.2"
  }
 },
 "nbformat": 4,
 "nbformat_minor": 1
}
